{
 "cells": [
  {
   "cell_type": "code",
   "execution_count": 15,
   "metadata": {},
   "outputs": [],
   "source": [
    "from music21 import *"
   ]
  },
  {
   "cell_type": "code",
   "execution_count": 16,
   "metadata": {},
   "outputs": [
    {
     "data": {
      "text/plain": [
       "True"
      ]
     },
     "execution_count": 16,
     "metadata": {},
     "output_type": "execute_result"
    }
   ],
   "source": [
    "note.Note('b4') < note.Note('g5')"
   ]
  },
  {
   "cell_type": "code",
   "execution_count": 19,
   "metadata": {},
   "outputs": [
    {
     "name": "stdout",
     "output_type": "stream",
     "text": [
      "A4\n",
      "D5\n",
      "F#5\n",
      "A5\n",
      "D6\n",
      "F#6\n",
      "A6\n",
      "D7\n",
      "F#7\n"
     ]
    }
   ],
   "source": [
    "def notes_from_rn(bottom, top, rn):\n",
    "    \"\"\"Generate all possible not for a range that are in a roman numeral\"\"\"\n",
    "    possible_notes = []\n",
    "    for pitch in rn.pitches:\n",
    "        possible_notes.append(pitch.name)\n",
    "        \n",
    "    all_notes = []\n",
    "    octave = bottom.octave\n",
    "    while octave <= top.octave:\n",
    "        for n in possible_notes:\n",
    "            actual_note = note.Note(f'{n}{octave}')\n",
    "            if bottom <= actual_note and actual_note <= top:\n",
    "                all_notes.append(actual_note)\n",
    "                \n",
    "        octave += 1\n",
    "                \n",
    "    return all_notes\n",
    "        \n",
    "        \n",
    "n1 = note.Note('G4')\n",
    "n2 = note.Note('G7')\n",
    "r = roman.RomanNumeral('I', key.Key('D'))\n",
    "for n in notes_from_rn(n1, n2, r):\n",
    "    print(n.nameWithOctave)"
   ]
  },
  {
   "cell_type": "code",
   "execution_count": 22,
   "metadata": {},
   "outputs": [
    {
     "data": {
      "text/plain": [
       "True"
      ]
     },
     "execution_count": 22,
     "metadata": {},
     "output_type": "execute_result"
    }
   ],
   "source": [
    "note.Note.__hash__ = lambda self: hash(self.nameWithOctave)\n",
    "\n",
    "def all_notes_different_on_part_one_beat(*notes) -> bool:\n",
    "    \"\"\"Asserts that all the notes in each part are different on one beat.\n",
    "    \n",
    "    Args:\n",
    "        notes: A tuple of notes on one beat in each part.\n",
    "    \"\"\"\n",
    "    return len(notes) == len(set(notes))\n",
    "\n",
    "all_notes_different_on_part_one_beat(note.Note('G4'), note.Note('C5'), note.Note('G3'))"
   ]
  },
  {
   "cell_type": "code",
   "execution_count": 25,
   "metadata": {},
   "outputs": [
    {
     "data": {
      "text/plain": [
       "False"
      ]
     },
     "execution_count": 25,
     "metadata": {},
     "output_type": "execute_result"
    }
   ],
   "source": [
    "def maximum_two_same_note_name(*notes) -> bool:\n",
    "    \"\"\"Asserts that all the notes in each part are different on one beat.\n",
    "    \n",
    "    Args:\n",
    "        notes: A tuple of notes on one beat in each part.\n",
    "    \"\"\"\n",
    "    name_dict = {}\n",
    "    for n in notes:\n",
    "        if n.name in name_dict:\n",
    "            name_dict[n.name] += 1\n",
    "        else:\n",
    "            name_dict[n.name] = 1\n",
    "    for n in name_dict:\n",
    "        if name_dict[n] > 2:\n",
    "            return False\n",
    "    return True\n",
    "\n",
    "maximum_two_same_note_name(note.Note('G4'), note.Note('G5'), note.Note('G3'))"
   ]
  },
  {
   "cell_type": "code",
   "execution_count": 79,
   "metadata": {},
   "outputs": [],
   "source": [
    "def is_pac(key):\n",
    "    \"\"\" Asserts that the two beats are a PAC.\n",
    "\n",
    "    Requirements for a PAC\n",
    "        - First chord is root position V\n",
    "        - Second chord is root position I\n",
    "        - Top voice is tonic in second chord\n",
    "    \n",
    "    Args:\n",
    "        notes: A tuple of notes formatted like (s1, a1, t1, b1, s2, a2, t2, b2)\n",
    "            in all parts\n",
    "    \"\"\"\n",
    "    def isp(*notes) -> bool:\n",
    "        notes1 = notes[:len(notes) // 2]\n",
    "        notes2 = notes[len(notes) // 2:]\n",
    "        b1 = notes1[-1]\n",
    "        b2 = notes2[-1]\n",
    "        s1 = notes1[0]\n",
    "        s2 = notes2[0]\n",
    "        tonic = key.tonic.name\n",
    "        # Check for correct notes in bottom and top\n",
    "        if b2.name != tonic or s2.name != tonic:\n",
    "            return False\n",
    "        # Check for correct chord types\n",
    "        c1 = chord.Chord(notes1)\n",
    "        c2 = chord.Chord(notes2)\n",
    "        rn1 = roman.romanNumeralFromChord(c1, key)\n",
    "        rn2 = roman.romanNumeralFromChord(c2, key)\n",
    "        print(rn1)\n",
    "        print(notes1)\n",
    "        print(notes2)\n",
    "        if rn1.figure != 'V' and rn1.figure != 'V7':\n",
    "            return False\n",
    "        if rn2.figure != 'I' and rn2.figure != 'i':\n",
    "            return False\n",
    "        return True\n",
    "\n",
    "    return isp\n",
    "\n",
    "cond = is_pac(key.Key('A'))"
   ]
  },
  {
   "cell_type": "code",
   "execution_count": 80,
   "metadata": {},
   "outputs": [
    {
     "name": "stdout",
     "output_type": "stream",
     "text": [
      "<music21.roman.RomanNumeral V7 in A major>\n",
      "(<music21.note.Note G#>, <music21.note.Note D>, <music21.note.Note E>)\n",
      "(<music21.note.Note A>, <music21.note.Note C#>, <music21.note.Note A>)\n"
     ]
    },
    {
     "data": {
      "text/plain": [
       "True"
      ]
     },
     "execution_count": 80,
     "metadata": {},
     "output_type": "execute_result"
    }
   ],
   "source": [
    "cond(note.Note('G#4'), note.Note('D3'), note.Note('E2'), note.Note('A5'), note.Note('C#3'), note.Note('A2'))"
   ]
  },
  {
   "cell_type": "code",
   "execution_count": 91,
   "metadata": {},
   "outputs": [],
   "source": [
    "def bass_notes_from_roman(bass_note_list, rn):\n",
    "    \"\"\"Returns a list of the possible bass notes given a rn.\n",
    "\n",
    "    Use to restrict the domain of the bottom voice to only the bass of\n",
    "    the chord for the roman numeral\n",
    "    \"\"\"\n",
    "    b = rn.bass().name\n",
    "    return list(filter(lambda n: n.name == b, bass_note_list))"
   ]
  },
  {
   "cell_type": "code",
   "execution_count": 94,
   "metadata": {},
   "outputs": [
    {
     "data": {
      "text/plain": [
       "[]"
      ]
     },
     "execution_count": 94,
     "metadata": {},
     "output_type": "execute_result"
    }
   ],
   "source": [
    "l = [note.Note('D-4'), note.Note('D-5'), note.Note('A-2')]\n",
    "bass_notes_from_roman(l, roman.RomanNumeral('ii', key.Key('D-')))"
   ]
  },
  {
   "cell_type": "code",
   "execution_count": null,
   "metadata": {},
   "outputs": [],
   "source": []
  }
 ],
 "metadata": {
  "kernelspec": {
   "display_name": "Python 3",
   "language": "python",
   "name": "python3"
  },
  "language_info": {
   "codemirror_mode": {
    "name": "ipython",
    "version": 3
   },
   "file_extension": ".py",
   "mimetype": "text/x-python",
   "name": "python",
   "nbconvert_exporter": "python",
   "pygments_lexer": "ipython3",
   "version": "3.6.9"
  }
 },
 "nbformat": 4,
 "nbformat_minor": 4
}
