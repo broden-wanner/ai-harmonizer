{
 "cells": [
  {
   "cell_type": "code",
   "execution_count": 15,
   "metadata": {},
   "outputs": [],
   "source": [
    "from music21 import *"
   ]
  },
  {
   "cell_type": "code",
   "execution_count": 16,
   "metadata": {},
   "outputs": [
    {
     "data": {
      "text/plain": [
       "True"
      ]
     },
     "execution_count": 16,
     "metadata": {},
     "output_type": "execute_result"
    }
   ],
   "source": [
    "note.Note('b4') < note.Note('g5')"
   ]
  },
  {
   "cell_type": "code",
   "execution_count": 19,
   "metadata": {},
   "outputs": [
    {
     "name": "stdout",
     "output_type": "stream",
     "text": [
      "A4\n",
      "D5\n",
      "F#5\n",
      "A5\n",
      "D6\n",
      "F#6\n",
      "A6\n",
      "D7\n",
      "F#7\n"
     ]
    }
   ],
   "source": [
    "def notes_from_rn(bottom, top, rn):\n",
    "    \"\"\"Generate all possible not for a range that are in a roman numeral\"\"\"\n",
    "    possible_notes = []\n",
    "    for pitch in rn.pitches:\n",
    "        possible_notes.append(pitch.name)\n",
    "        \n",
    "    all_notes = []\n",
    "    octave = bottom.octave\n",
    "    while octave <= top.octave:\n",
    "        for n in possible_notes:\n",
    "            actual_note = note.Note(f'{n}{octave}')\n",
    "            if bottom <= actual_note and actual_note <= top:\n",
    "                all_notes.append(actual_note)\n",
    "                \n",
    "        octave += 1\n",
    "                \n",
    "    return all_notes\n",
    "        \n",
    "        \n",
    "n1 = note.Note('G4')\n",
    "n2 = note.Note('G7')\n",
    "r = roman.RomanNumeral('I', key.Key('D'))\n",
    "for n in notes_from_rn(n1, n2, r):\n",
    "    print(n.nameWithOctave)"
   ]
  },
  {
   "cell_type": "code",
   "execution_count": null,
   "metadata": {},
   "outputs": [],
   "source": []
  }
 ],
 "metadata": {
  "kernelspec": {
   "display_name": "Python 3",
   "language": "python",
   "name": "python3"
  },
  "language_info": {
   "codemirror_mode": {
    "name": "ipython",
    "version": 3
   },
   "file_extension": ".py",
   "mimetype": "text/x-python",
   "name": "python",
   "nbconvert_exporter": "python",
   "pygments_lexer": "ipython3",
   "version": "3.6.9"
  }
 },
 "nbformat": 4,
 "nbformat_minor": 4
}
